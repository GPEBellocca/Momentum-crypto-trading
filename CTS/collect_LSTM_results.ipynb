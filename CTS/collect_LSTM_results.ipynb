{
 "metadata": {
  "language_info": {
   "codemirror_mode": {
    "name": "ipython",
    "version": 3
   },
   "file_extension": ".py",
   "mimetype": "text/x-python",
   "name": "python",
   "nbconvert_exporter": "python",
   "pygments_lexer": "ipython3",
   "version": "3.7.9"
  },
  "orig_nbformat": 2,
  "kernelspec": {
   "name": "python379jvsc74a57bd0ba966fdffb8ad7f041a089727306a5ac564cf47596d26f523855d27f8784641f",
   "display_name": "Python 3.7.9 64-bit ('unbias_venv': venv)"
  }
 },
 "nbformat": 4,
 "nbformat_minor": 2,
 "cells": [
  {
   "cell_type": "code",
   "execution_count": 9,
   "metadata": {},
   "outputs": [],
   "source": [
    "from glob import glob\n",
    "from os.path import join\n",
    "import pandas as pd"
   ]
  },
  {
   "cell_type": "code",
   "execution_count": 6,
   "metadata": {},
   "outputs": [],
   "source": [
    "FOLDER = join(\"results\", \"classification\")\n",
    "CRYPTOS = [\"BTC\", \"ETH\", \"LTC\"]\n",
    "LABELS = [3, 2]"
   ]
  },
  {
   "cell_type": "code",
   "execution_count": 18,
   "metadata": {},
   "outputs": [],
   "source": [
    "for crypto in CRYPTOS:\n",
    "    for num_classes in LABELS:\n",
    "        files = glob(join(FOLDER, f\"{crypto}_labels_LSTM_{num_classes}_*.csv\"))\n",
    "        assert len(files) == 10, f\"Here we should have 10 different files, not {len(files)}\"\n",
    "\n",
    "        results = [pd.read_csv(f).rename(columns={\"Unnamed: 0\": \"metric\"}) for f in files]\n",
    "        results = pd.concat(results)\n",
    "        results = results.groupby(\"metric\").mean()\n",
    "        results.to_csv(join(FOLDER, f\"average_{crypto}_labels_LSTM_{num_classes}.csv\"))"
   ]
  }
 ]
}