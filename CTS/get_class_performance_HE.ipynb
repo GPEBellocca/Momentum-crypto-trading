{
 "cells": [
  {
   "cell_type": "code",
   "execution_count": 1,
   "id": "polyphonic-nickname",
   "metadata": {},
   "outputs": [],
   "source": [
    "import pandas as pd\n",
    "from os.path import join as j\n",
    "from sklearn.metrics import classification_report"
   ]
  },
  {
   "cell_type": "code",
   "execution_count": 3,
   "id": "through-thong",
   "metadata": {},
   "outputs": [],
   "source": [
    "CRYPTOS = [\"BTC\", \"ETH\", \"LTC\"]\n",
    "OUT_DIR = \"out_50_0.0\"\n",
    "\n",
    "for crypto in CRYPTOS:\n",
    "    df = pd.read_csv(j(\"data\", \"labels_datasets\", f\"{crypto}_HE.csv\"), sep=\";\", na_values=[\"na\"]).fillna(0)\n",
    "    \n",
    "    class_report = classification_report(df[\"Real\"], df[\"Forecast\"], output_dict=True)    \n",
    "    pd.DataFrame(class_report).to_csv(\n",
    "        j(OUT_DIR, \"metrics\", f\"{crypto}_labels_HE_2.csv\"), index_label=\"metric\"\n",
    "    )\n",
    "    pd.DataFrame(class_report).to_csv(\n",
    "        j(OUT_DIR, \"metrics\", f\"{crypto}_labels_HE_3.csv\"), index_label=\"metric\"\n",
    "    )"
   ]
  }
 ],
 "metadata": {
  "kernelspec": {
   "display_name": "Python (unbias)",
   "language": "python",
   "name": "envname"
  },
  "language_info": {
   "codemirror_mode": {
    "name": "ipython",
    "version": 3
   },
   "file_extension": ".py",
   "mimetype": "text/x-python",
   "name": "python",
   "nbconvert_exporter": "python",
   "pygments_lexer": "ipython3",
   "version": "3.7.9"
  }
 },
 "nbformat": 4,
 "nbformat_minor": 5
}
