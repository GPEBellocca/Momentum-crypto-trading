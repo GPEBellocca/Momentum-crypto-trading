{
 "cells": [
  {
   "cell_type": "code",
   "execution_count": 25,
   "id": "exciting-catch",
   "metadata": {},
   "outputs": [
    {
     "data": {
      "text/plain": [
       "<module 'utils' from '/home/dauin_user/gattanasio/CTS/CTS/utils.py'>"
      ]
     },
     "execution_count": 25,
     "metadata": {},
     "output_type": "execute_result"
    }
   ],
   "source": [
    "import pandas as pd\n",
    "from glob import glob\n",
    "import config\n",
    "import utils\n",
    "from importlib import reload\n",
    "from os.path import join as j\n",
    "\n",
    "reload(config)\n",
    "reload(utils)"
   ]
  },
  {
   "cell_type": "code",
   "execution_count": 21,
   "id": "collectible-assembly",
   "metadata": {},
   "outputs": [
    {
     "name": "stdout",
     "output_type": "stream",
     "text": [
      "{'KNN', 'LG', 'RFC', 'GNB', 'MLP', 'SVC', 'MNB'}\n",
      "{'MNB', 'GNB', 'KNN'}\n",
      "{'LTC', 'BTC', 'ETH'}\n"
     ]
    }
   ],
   "source": [
    "CLASSIFIERS = {str(c) for c in config.HPARAMS.keys()}\n",
    "print(CLASSIFIERS)\n",
    "\n",
    "DETERMINISTIC = {str(c) for c in config.DETERMINISTIC}\n",
    "print(DETERMINISTIC)\n",
    "\n",
    "NUM_CLASSES = {2, 3}\n",
    "\n",
    "CRYPTO = {str(c) for c in config.Cryptocurrency}\n",
    "print(CRYPTO)\n",
    "\n",
    "CLASS_RESULTS = j(\"results\", \"classification\")\n",
    "TRADING_RESULTS = j(\"results\", \"trading\")"
   ]
  },
  {
   "cell_type": "code",
   "execution_count": 30,
   "id": "thirty-bottom",
   "metadata": {},
   "outputs": [],
   "source": [
    "def process_classification_results(data, num_classes):\n",
    "    d = {\n",
    "        \"F1_macro\": data.loc[\"f1-score\", \"macro avg\"],\n",
    "        \"F1_weighted\": data.loc[\"f1-score\", \"weighted avg\"],\n",
    "        \"Accuracy\": data.loc[\"precision\", \"accuracy\"],\n",
    "    }\n",
    "    \n",
    "    if num_classes == 2:\n",
    "        d[\"F1_O\"] = data.loc[\"f1-score\", \"1\"]\n",
    "        d[\"Precision_O\"] = data.loc[\"precision\", \"1\"]\n",
    "        d[\"Recall_O\"] = data.loc[\"recall\", \"1\"]\n",
    "    else:\n",
    "        d[\"F1_O\"] = data.loc[\"f1-score\", [\"-1\", \"1\"]].mean()\n",
    "        d[\"Precision_O\"] = data.loc[\"precision\", [\"-1\", \"1\"]].mean()\n",
    "        d[\"Recall_O\"] = data.loc[\"recall\", [\"-1\", \"1\"]].mean()\n",
    "    \n",
    "    return d"
   ]
  },
  {
   "cell_type": "code",
   "execution_count": 99,
   "id": "brilliant-rugby",
   "metadata": {},
   "outputs": [],
   "source": [
    "results = list()\n",
    "\n",
    "# read and process deterministic models\n",
    "for model in DETERMINISTIC:\n",
    "    for n_class in NUM_CLASSES:\n",
    "        for crypto in CRYPTO:\n",
    "            filename = utils.get_filename(crypto, model, n_class, None)\n",
    "            res = pd.read_csv(j(CLASS_RESULTS, filename), index_col=\"metric\")\n",
    "            d = process_classification_results(res, n_class)\n",
    "            d[\"classifier\"] = model\n",
    "            d[\"n_class\"] = n_class\n",
    "            d[\"crypto\"] = crypto\n",
    "            results.append(d)\n",
    "            \n",
    "deterministic = pd.DataFrame(results)\n",
    "\n",
    "results = list()\n",
    "\n",
    "# read and process non-deterministic models: average across seeds (random initializations)\n",
    "for model in list(CLASSIFIERS - DETERMINISTIC) + [\"LSTM\"]:\n",
    "    for n_class in NUM_CLASSES:\n",
    "        for crypto in CRYPTO:\n",
    "            for seed in range(10):\n",
    "                filename = utils.get_filename(crypto, model, n_class, seed)\n",
    "                \n",
    "                if model == \"LSTM\":\n",
    "                    res = pd.read_csv(j(CLASS_RESULTS, filename), index_col=0)\n",
    "                    res.index.name = \"metric\"\n",
    "                else:\n",
    "                    res = pd.read_csv(j(CLASS_RESULTS, filename), index_col=\"metric\")\n",
    "                \n",
    "                d = process_classification_results(res, n_class)\n",
    "                d[\"classifier\"] = model\n",
    "                d[\"n_class\"] = n_class\n",
    "                d[\"crypto\"] = crypto\n",
    "                d[\"seed\"] = seed\n",
    "                results.append(d)\n",
    "                \n",
    "non_deterministic_mean = pd.DataFrame(results).groupby([\"classifier\", \"n_class\", \"crypto\"]).mean().drop(\"seed\", axis=1).reset_index()\n",
    "non_deterministic_std = pd.DataFrame(results).groupby([\"classifier\", \"n_class\", \"crypto\"]).std().drop(\"seed\", axis=1).reset_index()"
   ]
  },
  {
   "cell_type": "code",
   "execution_count": 98,
   "id": "systematic-wyoming",
   "metadata": {},
   "outputs": [],
   "source": [
    "deterministic.pivot_table(\n",
    "    index=\"classifier\", columns=[\"n_class\", \"crypto\"]\n",
    ").drop(\n",
    "    \"Accuracy\", axis=1\n",
    ").to_csv(j(\"results\", \"classification\", \"comparison_det.csv\"))"
   ]
  },
  {
   "cell_type": "code",
   "execution_count": 101,
   "id": "responsible-vampire",
   "metadata": {},
   "outputs": [],
   "source": [
    "non_deterministic_mean.pivot_table(\n",
    "    index=\"classifier\", columns=[\"n_class\", \"crypto\"]\n",
    ").drop(\n",
    "    \"Accuracy\", axis=1\n",
    ").to_csv(j(\"results\", \"classification\", \"comparison_nondet_mean.csv\"))\n",
    "\n",
    "non_deterministic_std.pivot_table(\n",
    "    index=\"classifier\", columns=[\"n_class\", \"crypto\"]\n",
    ").drop(\n",
    "    \"Accuracy\", axis=1\n",
    ").to_csv(j(\"results\", \"classification\", \"comparison_nondet_std.csv\"))"
   ]
  }
 ],
 "metadata": {
  "kernelspec": {
   "display_name": "Python (unbias)",
   "language": "python",
   "name": "envname"
  },
  "language_info": {
   "codemirror_mode": {
    "name": "ipython",
    "version": 3
   },
   "file_extension": ".py",
   "mimetype": "text/x-python",
   "name": "python",
   "nbconvert_exporter": "python",
   "pygments_lexer": "ipython3",
   "version": "3.7.9"
  }
 },
 "nbformat": 4,
 "nbformat_minor": 5
}
