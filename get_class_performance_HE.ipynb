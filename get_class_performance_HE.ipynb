{
 "cells": [
  {
   "cell_type": "code",
   "execution_count": null,
   "id": "multiple-frank",
   "metadata": {},
   "outputs": [],
   "source": [
    "import pandas as pd\n",
    "from os.path import join as j\n",
    "from sklearn.metrics import classification_report"
   ]
  },
  {
   "cell_type": "code",
   "execution_count": null,
   "id": "pregnant-ecuador",
   "metadata": {},
   "outputs": [],
   "source": [
    "CRYPTOS = [\"BTC\", \"ETH\", \"LTC\"]\n",
    "OUT_DIR = \"out_50_2\"\n",
    "num_labels = [2, 3]\n",
    "\n",
    "for nl in num_labels:\n",
    "    for crypto in CRYPTOS:\n",
    "        df = pd.read_csv(j(OUT_DIR, \"portfolio_simulations_results\", f\"results_HE_{nl}.csv\"), sep=\",\", na_values=[\"na\"]).fillna(0)\n",
    "        res = pd.read_csv(j(OUT_DIR, \"labels\", f\"{crypto}_labels_KNN_{nl}.csv\"))\n",
    "\n",
    "        print(df.columns)\n",
    "        print(res.columns)\n",
    "        res = res.loc[res.Date.isin(df.Dates)]\n",
    "\n",
    "        y_true = res[\"Real\"]\n",
    "        print(len(y_true))\n",
    "        y_pred = df[f\"{crypto} positions\"]\n",
    "        print(len(y_pred))\n",
    "\n",
    "        class_report = classification_report(y_true, y_pred, output_dict=True)    \n",
    "        pd.DataFrame(class_report).to_csv(\n",
    "            j(OUT_DIR, \"metrics\", f\"{crypto}_labels_HE_{nl}.csv\"), index_label=\"metric\"\n",
    "        )"
   ]
  }
 ],
 "metadata": {
  "kernelspec": {
   "display_name": "unbias_venv",
   "language": "python",
   "name": "unbias_venv"
  },
  "language_info": {
   "codemirror_mode": {
    "name": "ipython",
    "version": 3
   },
   "file_extension": ".py",
   "mimetype": "text/x-python",
   "name": "python",
   "nbconvert_exporter": "python",
   "pygments_lexer": "ipython3",
   "version": "3.7.9"
  }
 },
 "nbformat": 4,
 "nbformat_minor": 5
}
